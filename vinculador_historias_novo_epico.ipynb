{
 "cells": [
  {
   "cell_type": "markdown",
   "metadata": {},
   "source": [
    "Notebook utilizado para realizar a automatização da migração de histórias de um épico existente para um novo épico a ser criado pelo código abaixo.\n",
    "\n",
    "\n",
    "É realizada a migração de histórias com status diferente de pronto."
   ]
  },
  {
   "cell_type": "code",
   "execution_count": null,
   "metadata": {},
   "outputs": [],
   "source": [
    "%pip install python-taiga"
   ]
  },
  {
   "cell_type": "code",
   "execution_count": 1,
   "metadata": {},
   "outputs": [],
   "source": [
    "from taiga import TaigaAPI\n",
    "import getpass\n",
    "from taiga.models.models import UserStory\n",
    "from taiga.requestmaker import RequestMaker"
   ]
  },
  {
   "cell_type": "code",
   "execution_count": 2,
   "metadata": {},
   "outputs": [],
   "source": [
    "hostname = input(\"Informe o hostname: \")\n",
    "if(not hostname or not hostname.strip()):\n",
    "    raise Exception(\"Hostname não informado!\")\n",
    "\n",
    "token = getpass.getpass(\"Informe o token: \")\n",
    "if(not token or not token.strip()):\n",
    "    raise Exception(\"Token não informado!\")\n",
    "\n",
    "\n",
    "api = TaigaAPI(host=hostname,token=token)\n",
    "\n",
    "\n",
    "# matricula = input(\"Informe a matrícula: \")\n",
    "# senha = getpass.getpass(\"Informe a senha: \")\n",
    "\n",
    "## Autenticação via LDAP no taiga\n",
    "# api = TaigaAPI(\n",
    "#     host= hostname,\n",
    "#     auth_type='ldap'\n",
    "# )\n",
    "# api.auth(\n",
    "#     username=matricula,\n",
    "#     password=senha\n",
    "# )\n"
   ]
  },
  {
   "cell_type": "code",
   "execution_count": null,
   "metadata": {},
   "outputs": [],
   "source": [
    "api.me()"
   ]
  },
  {
   "cell_type": "code",
   "execution_count": 11,
   "metadata": {},
   "outputs": [],
   "source": [
    "nome_projeto = input(\"Informe o nome do projeto: \")\n",
    "if(not nome_projeto or not nome_projeto.strip()):\n",
    "    raise Exception(\"Nome do projeto não informado!\")"
   ]
  },
  {
   "cell_type": "code",
   "execution_count": null,
   "metadata": {},
   "outputs": [],
   "source": [
    "lista_projetos = api.projects.list(q=nome_projeto)\n",
    "for projetoItem in lista_projetos:\n",
    "    print(f\"\\tProjeto: {projetoItem}\")\n",
    "    print(f\"\\t\\tid: {projetoItem.id}\")\n",
    "\n",
    "print(\"\\n\")\n",
    "projeto = None\n",
    "if(lista_projetos):\n",
    "    for projetoItem in lista_projetos:\n",
    "        if(nome_projeto == projetoItem.name):\n",
    "            projeto = projetoItem\n",
    "            print(f\"Projeto encontrado {projeto} - {projetoItem.id}\")\n",
    "            break\n",
    "    if(not projeto):\n",
    "        raise Exception(\"Projeto não encontrado! (1)\")\n",
    "else:\n",
    "    raise Exception(\"Projeto não encontrado! (2)\")"
   ]
  },
  {
   "cell_type": "code",
   "execution_count": 6,
   "metadata": {},
   "outputs": [],
   "source": [
    "epico_entrada = input(\"Informe o nome do épico de entrada: \")\n",
    "if(not epico_entrada or not epico_entrada.strip()):\n",
    "    raise Exception(\"Épico de entrada não informado!\")"
   ]
  },
  {
   "cell_type": "code",
   "execution_count": 28,
   "metadata": {},
   "outputs": [],
   "source": [
    "epico_saida = input(\"Informe o nome do épico de saída: \")\n",
    "if(not epico_saida or not epico_saida.strip()):\n",
    "    raise Exception(\"Épico de saída não informado!\")"
   ]
  },
  {
   "cell_type": "code",
   "execution_count": null,
   "metadata": {},
   "outputs": [],
   "source": [
    "# search_result = api.search(projeto.id, epico_entrada)\n",
    "# for epic_item in search_result.epics:\n",
    "#     print (f\"\\t\\tEpico: {epic_item}\")\n",
    "\n",
    "# epico_entrada_obj = None\n",
    "# if(search_result.epics):\n",
    "#     epico_entrada_obj = search_result.epics[0]\n",
    "# else:\n",
    "#     raise Exception(\"Épico não encontrado!\")"
   ]
  },
  {
   "cell_type": "markdown",
   "metadata": {},
   "source": [
    "Listando os épicos do projeto."
   ]
  },
  {
   "cell_type": "code",
   "execution_count": null,
   "metadata": {},
   "outputs": [],
   "source": [
    "lista_epicos = api.epics.list(project=projeto.id)\n",
    "for epic_item in lista_epicos:\n",
    "    print (f\"\\t\\tEpico: {epic_item}\")"
   ]
  },
  {
   "cell_type": "markdown",
   "metadata": {},
   "source": [
    "Método para a busca de épico."
   ]
  },
  {
   "cell_type": "code",
   "execution_count": 10,
   "metadata": {},
   "outputs": [],
   "source": [
    "def coletar_epico_por_nome_em_lista(nome_epico=\"\", lista_epicos=[]):\n",
    "    epico_obj = None\n",
    "    for epic_item in lista_epicos:\n",
    "        if(nome_epico == epic_item.subject):\n",
    "            print (f\"\\t\\tEpico: {epic_item}\")\n",
    "            print (f\"\\t\\t\\tRef: {epic_item.ref}\")\n",
    "            print (f\"\\t\\t\\tSubject: {epic_item.subject}\")\n",
    "            epico_obj = projeto.get_epic_by_ref(epic_item.ref)\n",
    "            print (f\"\\t\\t\\tDescription: {epico_obj.description}\")\n",
    "            print (f\"\\t\\t\\tAttributes: {epico_obj.get_attributes()}\")\n",
    "            print (f\"\\t\\t\\tto_dict(): {epico_obj.to_dict()}\")\n",
    "    return epico_obj"
   ]
  },
  {
   "cell_type": "code",
   "execution_count": null,
   "metadata": {},
   "outputs": [],
   "source": [
    "epico_entrada_obj = coletar_epico_por_nome_em_lista(nome_epico=epico_entrada, lista_epicos=lista_epicos)\n",
    "if(not epico_entrada_obj):\n",
    "    raise Exception(\"Épico não encontrado!\")"
   ]
  },
  {
   "cell_type": "code",
   "execution_count": 29,
   "metadata": {},
   "outputs": [],
   "source": [
    "epico_saida_obj = coletar_epico_por_nome_em_lista(nome_epico=epico_saida, lista_epicos=lista_epicos)\n",
    "if(epico_saida_obj):\n",
    "    raise Exception(\"Épico de saída já existe, é necessário informar o nome de um épico novo.\")"
   ]
  },
  {
   "cell_type": "code",
   "execution_count": null,
   "metadata": {},
   "outputs": [],
   "source": [
    "lista_historias_epico_entrada = epico_entrada_obj.list_user_stories()\n",
    "for historia in lista_historias_epico_entrada:\n",
    "    print(type(historia))\n",
    "    print(f\"\\tHistoria: {historia.id}\")\n",
    "    print(f\"\\t\\tRef: {historia.ref}\")\n",
    "    print(f\"\\t\\tProject: {historia.project}\")\n",
    "    print(f\"\\t\\ttatus: {historia.status}\")\n",
    "    print(f\"\\t\\ttatus: {historia.status_extra_info}\")\n",
    "    print(f\"\\t\\tSubject: {historia.subject}\")\n",
    "    print(f\"\\t\\tAtributos: {historia.get_attributes()}\")\n",
    "    historia2 = projeto.get_userstory_by_ref(historia.ref)\n",
    "    print(f\"\\t\\tDescription: {historia2.description}\")\n",
    "    print(historia.to_dict())\n",
    "    print(historia2.to_dict())\n",
    "\n",
    "    # for tarefa in historia2.list_tasks():\n",
    "    #     tarefa2 = projeto.get_task_by_ref(tarefa.ref)\n",
    "    #     print(f\"\\t\\tTarefa: {tarefa2.id}\")\n",
    "    #     print(f\"\\t\\t\\tRef: {tarefa2.ref}\")\n",
    "    #     print(f\"\\t\\t\\tSubject: {tarefa2.subject}\")\n",
    "    #     print(f\"\\t\\t\\tDescription: {tarefa2.description}\")\n",
    "    #     print(f\"\\t\\t\\tAtributos: {tarefa2.get_attributes()}\")\n",
    "    #     print(f\"\\t\\t\\tDict: {tarefa2.to_dict()}\")\n",
    "        \n",
    "\n",
    "    print(\"----\")\n"
   ]
  },
  {
   "cell_type": "markdown",
   "metadata": {},
   "source": [
    "Método para a cópia de história."
   ]
  },
  {
   "cell_type": "code",
   "execution_count": 15,
   "metadata": {},
   "outputs": [],
   "source": [
    "def copiar_historia(historia_origem=None):\n",
    "    if not historia_origem:\n",
    "        raise Exception(\"É necessário passar a história de origem para a cópia.\")\n",
    "\n",
    "    historia_tmp = api.user_stories.create(\n",
    "                                assigned_to=historia_origem.assigned_to, \n",
    "                                assigned_users=None, \n",
    "                                backlog_order=historia_origem.backlog_order, \n",
    "                                version=historia_origem.version, \n",
    "                                client_requirement=historia_origem.client_requirement, \n",
    "                                description=historia_origem.description, \n",
    "                                is_blocked=historia_origem.is_blocked, \n",
    "                                kanban_order=historia_origem.kanban_order, \n",
    "                                milestone=historia_origem.milestone, \n",
    "                                points=historia_origem.points, \n",
    "                                project=historia_origem.project, \n",
    "                                sprint_order=historia_origem.sprint_order, \n",
    "                                status=historia_origem.status, \n",
    "                                subject=historia_origem.subject, \n",
    "                                tags=historia_origem.tags, \n",
    "                                team_requirement=historia_origem.team_requirement, \n",
    "                                watchers=historia_origem.watchers, \n",
    "                                due_date=None, \n",
    "                                generated_from_issue=historia_origem.generated_from_issue, \n",
    "                                generated_from_task=None)\n",
    "\n",
    "    if 'attributes_values' in historia_origem.get_attributes():\n",
    "        for atributo, valor in historia_origem.get_attributes()['attributes_values'].items():\n",
    "            print(f\"atributo: {atributo}, valor: {valor}\")\n",
    "            historia_tmp.set_attribute(atributo, valor, 1)\n",
    "\n",
    "\n"
   ]
  },
  {
   "cell_type": "code",
   "execution_count": null,
   "metadata": {},
   "outputs": [],
   "source": [
    "# Loop de cópia das histórias\n",
    "# for historia in lista_historias_epico_entrada:\n",
    "#     historia2 = projeto.get_userstory_by_ref(historia.ref)\n",
    "#     copiar_historia(historia_origem=historia2)"
   ]
  },
  {
   "cell_type": "markdown",
   "metadata": {},
   "source": [
    "Criação do Épico de destino"
   ]
  },
  {
   "cell_type": "code",
   "execution_count": 30,
   "metadata": {},
   "outputs": [],
   "source": [
    "if not epico_saida:\n",
    "    raise Exception(\"Nome do épico de saída não informado!\")\n",
    "\n",
    "\n",
    "epico_saida_obj = api.epics.create(\n",
    "                                assigned_to=epico_entrada_obj.assigned_to, \n",
    "                                blocked_note=epico_entrada_obj.blocked_note, \n",
    "                                description=epico_entrada_obj.description, \n",
    "                                is_blocked=False, \n",
    "                                is_closed=False,\n",
    "                                color=epico_entrada_obj.color, \n",
    "                                project=epico_entrada_obj.project, \n",
    "                                subject=epico_saida, \n",
    "                                tags=epico_entrada_obj.tags, \n",
    "                                watchers=epico_entrada_obj.watchers, \n",
    "                                version=epico_entrada_obj.version)\n",
    "\n",
    "if 'attributes_values' in epico_entrada_obj.get_attributes():\n",
    "    for atributo, valor in epico_entrada_obj.get_attributes()['attributes_values'].items():\n",
    "        print(f\"atributo: {atributo}, valor: {valor}\")\n",
    "        epico_saida_obj.set_attribute(atributo, valor, 1)\n"
   ]
  },
  {
   "cell_type": "markdown",
   "metadata": {},
   "source": [
    "Varredura das histórias com status difetente de pronto."
   ]
  },
  {
   "cell_type": "code",
   "execution_count": null,
   "metadata": {},
   "outputs": [],
   "source": [
    "lista_user_histories_diferentes_pronta = []\n",
    "\n",
    "for historia in lista_historias_epico_entrada:\n",
    "    print(type(historia))\n",
    "    print(f\"\\tHistoria: {historia.id}\")\n",
    "    print(f\"\\t\\tRef: {historia.ref}\")\n",
    "    print(f\"\\t\\tProject: {historia.project}\")\n",
    "    print(f\"\\t\\ttatus: {historia.status}\")\n",
    "    print(f\"\\t\\ttatus: {historia.status_extra_info}\")\n",
    "\n",
    "    if historia.status_extra_info['name'] not in ['Ready',]:\n",
    "        lista_user_histories_diferentes_pronta.append(historia)"
   ]
  },
  {
   "cell_type": "markdown",
   "metadata": {},
   "source": [
    "Vinculando as histórias selecionadas ao épico de saída."
   ]
  },
  {
   "cell_type": "code",
   "execution_count": 32,
   "metadata": {},
   "outputs": [],
   "source": [
    "request_maker_obj = RequestMaker('/api/v1/', hostname, token)\n",
    "for historia_tmp in lista_user_histories_diferentes_pronta:\n",
    "    mapa_payload = {}\n",
    "    mapa_payload['epic']=epico_saida_obj.id\n",
    "    mapa_payload['user_story']=historia_tmp.id\n",
    "    \n",
    "    # Criando o vínculo com o novo épico.\n",
    "    request_maker_obj.post(f'epics/{epico_saida_obj.id}/related_userstories', payload=mapa_payload)\n",
    "\n",
    "    # Desvinculando ao épico anterior.\n",
    "    # request_maker_obj.delete(f'epics/{epico_entrada_obj.id}/related_userstories/{historia_tmp.id}')\n"
   ]
  }
 ],
 "metadata": {
  "kernelspec": {
   "display_name": ".venv",
   "language": "python",
   "name": "python3"
  },
  "language_info": {
   "codemirror_mode": {
    "name": "ipython",
    "version": 3
   },
   "file_extension": ".py",
   "mimetype": "text/x-python",
   "name": "python",
   "nbconvert_exporter": "python",
   "pygments_lexer": "ipython3",
   "version": "3.12.7"
  }
 },
 "nbformat": 4,
 "nbformat_minor": 2
}
