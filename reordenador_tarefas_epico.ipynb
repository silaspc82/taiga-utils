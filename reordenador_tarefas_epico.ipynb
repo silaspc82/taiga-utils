{
 "cells": [
  {
   "cell_type": "markdown",
   "metadata": {},
   "source": [
    "Notebook utilizado para reordenar as histórias de um épico com base no ordenamento dos status das histórias do projeto.\n",
    "\n",
    "Pode se utilizar um ordenamento próprio caso deseje substituir o ordenamento padrão do projeto."
   ]
  },
  {
   "cell_type": "markdown",
   "metadata": {},
   "source": [
    "Reordenador de tarefas do épico."
   ]
  },
  {
   "cell_type": "code",
   "execution_count": 2,
   "metadata": {},
   "outputs": [],
   "source": [
    "from taiga import TaigaAPI\n",
    "import getpass\n",
    "from taiga.models.models import UserStory\n",
    "from taiga.requestmaker import RequestMaker\n",
    "import time"
   ]
  },
  {
   "cell_type": "code",
   "execution_count": null,
   "metadata": {},
   "outputs": [],
   "source": [
    "hostname = input(\"Informe o hostname: \")\n",
    "if(not hostname or not hostname.strip()):\n",
    "    raise Exception(\"Hostname não informado!\")\n",
    "\n",
    "token = getpass.getpass(\"Informe o token: \")\n",
    "if(not token or not token.strip()):\n",
    "    raise Exception(\"Token não informado!\")\n",
    "\n",
    "\n",
    "api = TaigaAPI(host=hostname,token=token)\n",
    "\n",
    "\n",
    "\n",
    "\n",
    "# matricula = input(\"Informe a matrícula: \")\n",
    "# senha = getpass.getpass(\"Informe a senha: \")\n",
    "\n",
    "## Autenticação via LDAP no taiga\n",
    "# api = TaigaAPI(\n",
    "#     host= hostname,\n",
    "#     auth_type='ldap'\n",
    "# )\n",
    "# api.auth(\n",
    "#     username=matricula,\n",
    "#     password=senha\n",
    "# )\n"
   ]
  },
  {
   "cell_type": "code",
   "execution_count": 5,
   "metadata": {},
   "outputs": [
    {
     "data": {
      "text/plain": [
       "User(1031)"
      ]
     },
     "execution_count": 5,
     "metadata": {},
     "output_type": "execute_result"
    }
   ],
   "source": [
    "api.me()"
   ]
  },
  {
   "cell_type": "markdown",
   "metadata": {},
   "source": [
    "Coletando o nome do projeto"
   ]
  },
  {
   "cell_type": "code",
   "execution_count": 6,
   "metadata": {},
   "outputs": [],
   "source": [
    "nome_projeto = input(\"Informe o nome do projeto: \")\n",
    "if(not nome_projeto or not nome_projeto.strip()):\n",
    "    raise Exception(\"Nome do projeto não informado!\")"
   ]
  },
  {
   "cell_type": "markdown",
   "metadata": {},
   "source": [
    "Recuperando o projeto."
   ]
  },
  {
   "cell_type": "code",
   "execution_count": 7,
   "metadata": {},
   "outputs": [
    {
     "name": "stdout",
     "output_type": "stream",
     "text": [
      "\tProjeto: VPM\n",
      "\t\tid: 129\n"
     ]
    }
   ],
   "source": [
    "lista_projetos = api.projects.list(q=nome_projeto)\n",
    "for projeto in lista_projetos:\n",
    "    print(f\"\\tProjeto: {projeto}\")\n",
    "    print(f\"\\t\\tid: {projeto.id}\")\n",
    "\n",
    "projeto = None\n",
    "if(lista_projetos):\n",
    "    projeto = lista_projetos[0]\n",
    "else:\n",
    "    raise Exception(\"Projeto não encontrado!\")"
   ]
  },
  {
   "cell_type": "markdown",
   "metadata": {},
   "source": [
    "Coletando o nome do épico de entrada."
   ]
  },
  {
   "cell_type": "code",
   "execution_count": 8,
   "metadata": {},
   "outputs": [],
   "source": [
    "epico_entrada = input(\"Informe o nome do épico de entrada: \")\n",
    "if(not epico_entrada or not epico_entrada.strip()):\n",
    "    raise Exception(\"Épico de entrada não informado!\")"
   ]
  },
  {
   "cell_type": "markdown",
   "metadata": {},
   "source": [
    "Recuperando o épico de entrada."
   ]
  },
  {
   "cell_type": "code",
   "execution_count": 9,
   "metadata": {},
   "outputs": [
    {
     "name": "stdout",
     "output_type": "stream",
     "text": [
      "\t\tEpico: Epico de teste Origem\n"
     ]
    }
   ],
   "source": [
    "lista_epicos = api.epics.list(project=projeto.id)\n",
    "for epic_item in lista_epicos:\n",
    "    print (f\"\\t\\tEpico: {epic_item}\")"
   ]
  },
  {
   "cell_type": "code",
   "execution_count": 10,
   "metadata": {},
   "outputs": [],
   "source": [
    "def coletar_epico_por_nome_em_lista(nome_epico=\"\", lista_epicos=[]):\n",
    "    epico_obj = None\n",
    "    for epic_item in lista_epicos:\n",
    "        if(nome_epico == epic_item.subject):\n",
    "            print (f\"\\t\\tEpico: {epic_item}\")\n",
    "            print (f\"\\t\\t\\tRef: {epic_item.ref}\")\n",
    "            print (f\"\\t\\t\\tSubject: {epic_item.subject}\")\n",
    "            epico_obj = projeto.get_epic_by_ref(epic_item.ref)\n",
    "            print (f\"\\t\\t\\tDescription: {epico_obj.description}\")\n",
    "            print (f\"\\t\\t\\tAttributes: {epico_obj.get_attributes()}\")\n",
    "            print (f\"\\t\\t\\tto_dict(): {epico_obj.to_dict()}\")\n",
    "    return epico_obj"
   ]
  },
  {
   "cell_type": "markdown",
   "metadata": {},
   "source": [
    "Filtrando o épico de entrada pela lista."
   ]
  },
  {
   "cell_type": "code",
   "execution_count": 11,
   "metadata": {},
   "outputs": [
    {
     "name": "stdout",
     "output_type": "stream",
     "text": [
      "\t\tEpico: Epico de teste Origem\n",
      "\t\t\tRef: 119\n",
      "\t\t\tSubject: Epico de teste Origem\n",
      "\t\t\tDescription: Descrição do épico de teste de origem.\n",
      "\t\t\tAttributes: {'epic': 4848, 'attributes_values': {}, 'version': 1}\n",
      "\t\t\tto_dict(): {'is_closed': False, 'is_blocked': False, 'project': 129, 'subject': 'Epico de teste Origem', 'description': 'Descrição do épico de teste de origem.', 'watchers': [1031], 'color': '#3465a4', 'assigned_to': 1031, 'version': 5, 'blocked_note': '', 'tags': []}\n"
     ]
    }
   ],
   "source": [
    "epico_entrada_obj = coletar_epico_por_nome_em_lista(nome_epico=epico_entrada, lista_epicos=lista_epicos)\n",
    "if(not epico_entrada_obj):\n",
    "    raise Exception(\"Épico não encontrado!\")"
   ]
  },
  {
   "cell_type": "markdown",
   "metadata": {},
   "source": [
    "Listando as histórias do épico."
   ]
  },
  {
   "cell_type": "code",
   "execution_count": 12,
   "metadata": {},
   "outputs": [
    {
     "name": "stdout",
     "output_type": "stream",
     "text": [
      "{'epic': 4848, 'include_tasks': 'true', 'order_by': 'epic_order'}\n"
     ]
    },
    {
     "data": {
      "text/plain": [
       "list"
      ]
     },
     "execution_count": 12,
     "metadata": {},
     "output_type": "execute_result"
    }
   ],
   "source": [
    "request_maker_obj = RequestMaker('/api/v1/', hostname, token)\n",
    "\n",
    "# Consultando a lista de histórias\n",
    "mapa_get_historias = {}\n",
    "mapa_get_historias['epic'] = epico_entrada_obj.id\n",
    "mapa_get_historias['include_tasks'] = 'true'\n",
    "mapa_get_historias['order_by'] = 'epic_order'\n",
    "\n",
    "print(mapa_get_historias)\n",
    "retorno = request_maker_obj.get(f'userstories', query=mapa_get_historias)\n",
    "\n",
    "lista_historias = retorno.json()\n",
    "type(lista_historias)\n"
   ]
  },
  {
   "cell_type": "markdown",
   "metadata": {},
   "source": [
    "Coletando os status das histórias do projeto."
   ]
  },
  {
   "cell_type": "code",
   "execution_count": 13,
   "metadata": {},
   "outputs": [
    {
     "name": "stdout",
     "output_type": "stream",
     "text": [
      "[UserStoryStatus(698), UserStoryStatus(699), UserStoryStatus(700), UserStoryStatus(701), UserStoryStatus(702), UserStoryStatus(703)]\n",
      "UserStoryStatus: projeto: 129, - name: New, - order: 1\n",
      "UserStoryStatus: projeto: 129, - name: Ready, - order: 2\n",
      "UserStoryStatus: projeto: 129, - name: In progress, - order: 3\n",
      "UserStoryStatus: projeto: 129, - name: Ready for test, - order: 4\n",
      "UserStoryStatus: projeto: 129, - name: Done, - order: 5\n",
      "UserStoryStatus: projeto: 129, - name: Archived, - order: 6\n"
     ]
    }
   ],
   "source": [
    "lista_status_user_histories = projeto.list_user_story_statuses()\n",
    "print(lista_status_user_histories)\n",
    "\n",
    "for status_historia in lista_status_user_histories:\n",
    "    print(f\"UserStoryStatus: projeto: {status_historia.project}, - name: {status_historia.name}, - order: {status_historia.order}\")\n"
   ]
  },
  {
   "cell_type": "markdown",
   "metadata": {},
   "source": [
    "Criando o mapa de ordenação dos status das histórias."
   ]
  },
  {
   "cell_type": "code",
   "execution_count": 14,
   "metadata": {},
   "outputs": [
    {
     "name": "stdout",
     "output_type": "stream",
     "text": [
      "{'New': 1, 'Ready': 2, 'In progress': 3, 'Ready for test': 4, 'Done': 5, 'Archived': 6}\n"
     ]
    }
   ],
   "source": [
    "mapa_status_ordem = {}\n",
    "for status_historia in lista_status_user_histories:\n",
    "    mapa_status_ordem[status_historia.name] = status_historia.order\n",
    "\n",
    "print(mapa_status_ordem)\n",
    "\n",
    "def get_codigo_ordem_por_descricao_status(status='', mapa_status_ordem_param = {}):\n",
    "    # print(f\"status: {status} - retorno: {mapa_status_ordem_param[status]}\")\n",
    "    return mapa_status_ordem_param[status]"
   ]
  },
  {
   "cell_type": "markdown",
   "metadata": {},
   "source": [
    "Modificando a ordem padrão dos status."
   ]
  },
  {
   "cell_type": "code",
   "execution_count": 15,
   "metadata": {},
   "outputs": [],
   "source": [
    "# mapa_status_ordem = {'New': 1, 'Ready': 2, 'In progress': 3, 'Ready for test': 4, 'Done': 5, 'Archived': 6}"
   ]
  },
  {
   "cell_type": "markdown",
   "metadata": {},
   "source": [
    "Prévia de ordenação das histórias do épico."
   ]
  },
  {
   "cell_type": "code",
   "execution_count": 16,
   "metadata": {},
   "outputs": [
    {
     "name": "stdout",
     "output_type": "stream",
     "text": [
      "História: 128 - História de teste 3\n",
      "História: 121 - História de teste 1\n",
      "História: 123 - História de teste 2\n"
     ]
    }
   ],
   "source": [
    "# print(mapa_get_historias)\n",
    "\n",
    "# print(lista_historias)\n",
    "\n",
    "for historia in sorted(lista_historias, key = lambda item: get_codigo_ordem_por_descricao_status(status=item['status_extra_info']['name'], mapa_status_ordem_param = mapa_status_ordem)):\n",
    "    print(f\"História: {historia['ref']} - {historia['subject']}\")"
   ]
  },
  {
   "cell_type": "markdown",
   "metadata": {},
   "source": [
    "Aplicando a ordenação das histórias do épico."
   ]
  },
  {
   "cell_type": "code",
   "execution_count": 17,
   "metadata": {},
   "outputs": [
    {
     "name": "stdout",
     "output_type": "stream",
     "text": [
      "História: 128 - História de teste 3\n",
      "{'order': 0}\n",
      "História: 121 - História de teste 1\n",
      "{'order': 2}\n",
      "História: 123 - História de teste 2\n",
      "{'order': 3}\n"
     ]
    }
   ],
   "source": [
    "for idx_historia_ordenada, historia in enumerate(sorted(lista_historias, key = lambda item: get_codigo_ordem_por_descricao_status(status=item['status_extra_info']['name'], mapa_status_ordem_param = mapa_status_ordem))):\n",
    "\n",
    "    print(f\"História: {historia['ref']} - {historia['subject']}\")\n",
    "\n",
    "    # Consultando a lista de histórias\n",
    "    mapa_patch_ordenamento = {}\n",
    "    mapa_patch_ordenamento['order'] = lista_historias[idx_historia_ordenada]['epic_order']\n",
    "\n",
    "    print(mapa_patch_ordenamento)\n",
    "    retorno = request_maker_obj.patch(f'epics/{epico_entrada_obj.id}/related_userstories/{historia['id']}', payload=mapa_patch_ordenamento)\n",
    "\n",
    "    time.sleep(0.5)\n",
    "    # lista_historias = retorno.json()\n",
    "    # type(lista_historias)\n"
   ]
  }
 ],
 "metadata": {
  "kernelspec": {
   "display_name": ".venv",
   "language": "python",
   "name": "python3"
  },
  "language_info": {
   "codemirror_mode": {
    "name": "ipython",
    "version": 3
   },
   "file_extension": ".py",
   "mimetype": "text/x-python",
   "name": "python",
   "nbconvert_exporter": "python",
   "pygments_lexer": "ipython3",
   "version": "3.12.3"
  }
 },
 "nbformat": 4,
 "nbformat_minor": 2
}
